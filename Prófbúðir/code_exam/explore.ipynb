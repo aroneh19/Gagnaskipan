{
 "cells": [
  {
   "cell_type": "code",
   "execution_count": 1,
   "metadata": {},
   "outputs": [],
   "source": [
    "%load_ext autoreload\n",
    "%autoreload 2\n",
    "from solutions import SentenceTree\n",
    "from helpers import show_sentence_tree"
   ]
  },
  {
   "cell_type": "code",
   "execution_count": 2,
   "metadata": {},
   "outputs": [],
   "source": [
    "st = SentenceTree()"
   ]
  },
  {
   "cell_type": "code",
   "execution_count": 3,
   "metadata": {},
   "outputs": [],
   "source": [
    "def store_show(tree, sentence):\n",
    "    tree.store_sentence(sentence)\n",
    "    show_sentence_tree(tree)"
   ]
  },
  {
   "cell_type": "code",
   "execution_count": 7,
   "metadata": {},
   "outputs": [
    {
     "data": {
      "image/svg+xml": [
       "<svg xmlns=\"http://www.w3.org/2000/svg\" xmlns:xlink=\"http://www.w3.org/1999/xlink\" width=\"370pt\" height=\"404pt\" viewBox=\"0.00 0.00 370.34 404.00\">\n",
       "<g id=\"graph0\" class=\"graph\" transform=\"scale(1 1) rotate(0) translate(4 400)\">\n",
       "<title>%3</title>\n",
       "<polygon fill=\"white\" stroke=\"transparent\" points=\"-4,4 -4,-400 366.34,-400 366.34,4 -4,4\"/>\n",
       "<!-- 0 -->\n",
       "<g id=\"node1\" class=\"node\">\n",
       "<title>0</title>\n",
       "<ellipse fill=\"none\" stroke=\"black\" cx=\"143.4\" cy=\"-378\" rx=\"27\" ry=\"18\"/>\n",
       "</g>\n",
       "<!-- 1 -->\n",
       "<g id=\"node2\" class=\"node\">\n",
       "<title>1</title>\n",
       "<ellipse fill=\"none\" stroke=\"black\" cx=\"105.4\" cy=\"-306\" rx=\"31.7\" ry=\"18\"/>\n",
       "<text text-anchor=\"middle\" x=\"105.4\" y=\"-302.3\" font-family=\"Times,serif\" font-size=\"14.00\">your</text>\n",
       "</g>\n",
       "<!-- 0&#45;&gt;1 -->\n",
       "<g id=\"edge1\" class=\"edge\">\n",
       "<title>0-&gt;1</title>\n",
       "<path fill=\"none\" stroke=\"black\" d=\"M134.58,-360.76C130.04,-352.4 124.41,-342.02 119.3,-332.61\"/>\n",
       "<polygon fill=\"black\" stroke=\"black\" points=\"122.27,-330.75 114.43,-323.63 116.12,-334.09 122.27,-330.75\"/>\n",
       "</g>\n",
       "<!-- 3 -->\n",
       "<g id=\"node4\" class=\"node\">\n",
       "<title>3</title>\n",
       "<ellipse fill=\"none\" stroke=\"black\" cx=\"196.4\" cy=\"-306\" rx=\"27\" ry=\"18\"/>\n",
       "<text text-anchor=\"middle\" x=\"196.4\" y=\"-302.3\" font-family=\"Times,serif\" font-size=\"14.00\">my</text>\n",
       "</g>\n",
       "<!-- 0&#45;&gt;3 -->\n",
       "<g id=\"edge3\" class=\"edge\">\n",
       "<title>0-&gt;3</title>\n",
       "<path fill=\"none\" stroke=\"black\" d=\"M155.16,-361.46C162.02,-352.4 170.82,-340.79 178.52,-330.61\"/>\n",
       "<polygon fill=\"black\" stroke=\"black\" points=\"181.42,-332.58 184.67,-322.49 175.84,-328.35 181.42,-332.58\"/>\n",
       "</g>\n",
       "<!-- 2 -->\n",
       "<g id=\"node3\" class=\"node\">\n",
       "<title>2</title>\n",
       "<ellipse fill=\"none\" stroke=\"black\" cx=\"36.4\" cy=\"-234\" rx=\"36.29\" ry=\"18\"/>\n",
       "<text text-anchor=\"middle\" x=\"36.4\" y=\"-230.3\" font-family=\"Times,serif\" font-size=\"14.00\">apple</text>\n",
       "</g>\n",
       "<!-- 1&#45;&gt;2 -->\n",
       "<g id=\"edge2\" class=\"edge\">\n",
       "<title>1-&gt;2</title>\n",
       "<path fill=\"none\" stroke=\"black\" d=\"M90.42,-289.81C81.24,-280.49 69.3,-268.38 58.98,-257.91\"/>\n",
       "<polygon fill=\"black\" stroke=\"black\" points=\"61.33,-255.31 51.82,-250.64 56.34,-260.22 61.33,-255.31\"/>\n",
       "</g>\n",
       "<!-- 4 -->\n",
       "<g id=\"node5\" class=\"node\">\n",
       "<title>4</title>\n",
       "<ellipse fill=\"none\" stroke=\"black\" cx=\"142.4\" cy=\"-234\" rx=\"51.99\" ry=\"18\"/>\n",
       "<text text-anchor=\"middle\" x=\"142.4\" y=\"-230.3\" font-family=\"Times,serif\" font-size=\"14.00\">neighbor</text>\n",
       "</g>\n",
       "<!-- 3&#45;&gt;4 -->\n",
       "<g id=\"edge4\" class=\"edge\">\n",
       "<title>3-&gt;4</title>\n",
       "<path fill=\"none\" stroke=\"black\" d=\"M184.41,-289.46C177.62,-280.65 168.96,-269.43 161.27,-259.46\"/>\n",
       "<polygon fill=\"black\" stroke=\"black\" points=\"163.98,-257.25 155.1,-251.47 158.44,-261.52 163.98,-257.25\"/>\n",
       "</g>\n",
       "<!-- 8 -->\n",
       "<g id=\"node9\" class=\"node\">\n",
       "<title>8</title>\n",
       "<ellipse fill=\"none\" stroke=\"black\" cx=\"250.4\" cy=\"-234\" rx=\"38.19\" ry=\"18\"/>\n",
       "<text text-anchor=\"middle\" x=\"250.4\" y=\"-230.3\" font-family=\"Times,serif\" font-size=\"14.00\">house</text>\n",
       "</g>\n",
       "<!-- 3&#45;&gt;8 -->\n",
       "<g id=\"edge8\" class=\"edge\">\n",
       "<title>3-&gt;8</title>\n",
       "<path fill=\"none\" stroke=\"black\" d=\"M208.38,-289.46C215.18,-280.65 223.84,-269.43 231.53,-259.46\"/>\n",
       "<polygon fill=\"black\" stroke=\"black\" points=\"234.36,-261.52 237.69,-251.47 228.81,-257.25 234.36,-261.52\"/>\n",
       "</g>\n",
       "<!-- 9 -->\n",
       "<g id=\"node10\" class=\"node\">\n",
       "<title>9</title>\n",
       "<ellipse fill=\"none\" stroke=\"black\" cx=\"334.4\" cy=\"-234\" rx=\"27.9\" ry=\"18\"/>\n",
       "<text text-anchor=\"middle\" x=\"334.4\" y=\"-230.3\" font-family=\"Times,serif\" font-size=\"14.00\">dog</text>\n",
       "</g>\n",
       "<!-- 3&#45;&gt;9 -->\n",
       "<g id=\"edge9\" class=\"edge\">\n",
       "<title>3-&gt;9</title>\n",
       "<path fill=\"none\" stroke=\"black\" d=\"M217.36,-294.37C240.32,-282.72 277.39,-263.92 303.65,-250.6\"/>\n",
       "<polygon fill=\"black\" stroke=\"black\" points=\"305.45,-253.61 312.78,-245.96 302.28,-247.37 305.45,-253.61\"/>\n",
       "</g>\n",
       "<!-- 5 -->\n",
       "<g id=\"node6\" class=\"node\">\n",
       "<title>5</title>\n",
       "<ellipse fill=\"none\" stroke=\"black\" cx=\"142.4\" cy=\"-162\" rx=\"27\" ry=\"18\"/>\n",
       "<text text-anchor=\"middle\" x=\"142.4\" y=\"-158.3\" font-family=\"Times,serif\" font-size=\"14.00\">has</text>\n",
       "</g>\n",
       "<!-- 4&#45;&gt;5 -->\n",
       "<g id=\"edge5\" class=\"edge\">\n",
       "<title>4-&gt;5</title>\n",
       "<path fill=\"none\" stroke=\"black\" d=\"M142.4,-215.7C142.4,-207.98 142.4,-198.71 142.4,-190.11\"/>\n",
       "<polygon fill=\"black\" stroke=\"black\" points=\"145.9,-190.1 142.4,-180.1 138.9,-190.1 145.9,-190.1\"/>\n",
       "</g>\n",
       "<!-- 6 -->\n",
       "<g id=\"node7\" class=\"node\">\n",
       "<title>6</title>\n",
       "<ellipse fill=\"none\" stroke=\"black\" cx=\"142.4\" cy=\"-90\" rx=\"27\" ry=\"18\"/>\n",
       "<text text-anchor=\"middle\" x=\"142.4\" y=\"-86.3\" font-family=\"Times,serif\" font-size=\"14.00\">a</text>\n",
       "</g>\n",
       "<!-- 5&#45;&gt;6 -->\n",
       "<g id=\"edge6\" class=\"edge\">\n",
       "<title>5-&gt;6</title>\n",
       "<path fill=\"none\" stroke=\"black\" d=\"M142.4,-143.7C142.4,-135.98 142.4,-126.71 142.4,-118.11\"/>\n",
       "<polygon fill=\"black\" stroke=\"black\" points=\"145.9,-118.1 142.4,-108.1 138.9,-118.1 145.9,-118.1\"/>\n",
       "</g>\n",
       "<!-- 7 -->\n",
       "<g id=\"node8\" class=\"node\">\n",
       "<title>7</title>\n",
       "<ellipse fill=\"none\" stroke=\"black\" cx=\"142.4\" cy=\"-18\" rx=\"27\" ry=\"18\"/>\n",
       "<text text-anchor=\"middle\" x=\"142.4\" y=\"-14.3\" font-family=\"Times,serif\" font-size=\"14.00\">cat</text>\n",
       "</g>\n",
       "<!-- 6&#45;&gt;7 -->\n",
       "<g id=\"edge7\" class=\"edge\">\n",
       "<title>6-&gt;7</title>\n",
       "<path fill=\"none\" stroke=\"black\" d=\"M142.4,-71.7C142.4,-63.98 142.4,-54.71 142.4,-46.11\"/>\n",
       "<polygon fill=\"black\" stroke=\"black\" points=\"145.9,-46.1 142.4,-36.1 138.9,-46.1 145.9,-46.1\"/>\n",
       "</g>\n",
       "</g>\n",
       "</svg>"
      ],
      "text/plain": [
       "<IPython.core.display.SVG object>"
      ]
     },
     "metadata": {},
     "output_type": "display_data"
    }
   ],
   "source": [
    "store_show(st, \"my neighbor has a cat\")"
   ]
  }
 ],
 "metadata": {
  "kernelspec": {
   "display_name": "Python 3",
   "language": "python",
   "name": "python3"
  },
  "language_info": {
   "codemirror_mode": {
    "name": "ipython",
    "version": 3
   },
   "file_extension": ".py",
   "mimetype": "text/x-python",
   "name": "python",
   "nbconvert_exporter": "python",
   "pygments_lexer": "ipython3",
   "version": "3.10.12"
  }
 },
 "nbformat": 4,
 "nbformat_minor": 2
}
